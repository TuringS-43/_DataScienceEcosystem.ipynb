{
 "cells": [
  {
   "cell_type": "code",
   "execution_count": null,
   "id": "749c3031-ee78-437c-843e-f8c2ebc45623",
   "metadata": {},
   "outputs": [],
   "source": [
    "# Data Science Tools and Ecosystem"
   ]
  },
  {
   "cell_type": "code",
   "execution_count": null,
   "id": "69d32bdb-ff0d-4f82-bebd-287066b063a3",
   "metadata": {},
   "outputs": [],
   "source": [
    "#In this notebook, Data Science Tools and Ecosystem are summarized."
   ]
  },
  {
   "cell_type": "code",
   "execution_count": null,
   "id": "69ecfb11-3e85-4b53-9fff-cd0b62729bc3",
   "metadata": {},
   "outputs": [],
   "source": [
    "#Some of the popular languages that Data Scientists use are:\n",
    "1. Python\n",
    "2. SQL\n",
    "3. R\n",
    "4. Julia"
   ]
  },
  {
   "cell_type": "code",
   "execution_count": null,
   "id": "6e7e93c4-864e-4f57-aeff-9f11c05ff9fd",
   "metadata": {},
   "outputs": [],
   "source": [
    "#Some of the commonly used libraries used by Data Scientists include:\n",
    "\n",
    "1. NumPy\n",
    "2. Pandas\n",
    "3. Matplotlib"
   ]
  },
  {
   "cell_type": "code",
   "execution_count": 3,
   "id": "edcfa895-8967-4ce7-b5f1-4044c6e818de",
   "metadata": {},
   "outputs": [
    {
     "data": {
      "text/markdown": [
       "\n",
       "| Data Science Tools       |\n",
       "|--------------------------|\n",
       "| Jupyter Notebook         |\n",
       "| RStudio                  |\n",
       "| Apache Zeppelin          |\n"
      ],
      "text/plain": [
       "<IPython.core.display.Markdown object>"
      ]
     },
     "metadata": {},
     "output_type": "display_data"
    }
   ],
   "source": [
    "from IPython.display import Markdown\n",
    "\n",
    "# Create a Markdown string with a table\n",
    "markdown_table = \"\"\"\n",
    "| Data Science Tools       |\n",
    "|--------------------------|\n",
    "| Jupyter Notebook         |\n",
    "| RStudio                  |\n",
    "| Apache Zeppelin          |\n",
    "\"\"\"\n",
    "\n",
    "# Display the Markdown content\n",
    "display(Markdown(markdown_table))"
   ]
  },
  {
   "cell_type": "code",
   "execution_count": null,
   "id": "bbe999fb-8f79-4f57-9a56-f6ea6300a14c",
   "metadata": {},
   "outputs": [],
   "source": [
    "### Below are a few examples of evaluating arithmetic expressions in Python:"
   ]
  },
  {
   "cell_type": "code",
   "execution_count": 5,
   "id": "2332a8cc-f846-4509-ad24-d3d1fc095e91",
   "metadata": {},
   "outputs": [
    {
     "name": "stdout",
     "output_type": "stream",
     "text": [
      "17\n"
     ]
    }
   ],
   "source": [
    "\n",
    "result = (3 * 4) + 5\n",
    "print(result) \n"
   ]
  },
  {
   "cell_type": "code",
   "execution_count": 7,
   "id": "5622933b-2c17-4d4e-88ac-ef802d76cb80",
   "metadata": {},
   "outputs": [
    {
     "name": "stdout",
     "output_type": "stream",
     "text": [
      "3.3333333333333335\n"
     ]
    }
   ],
   "source": [
    "hours = 200 / 60\n",
    "print(hours)"
   ]
  },
  {
   "cell_type": "code",
   "execution_count": 9,
   "id": "8d4c29e7-847f-49a1-89aa-81736ea27b76",
   "metadata": {},
   "outputs": [
    {
     "ename": "SyntaxError",
     "evalue": "invalid syntax (439465753.py, line 1)",
     "output_type": "error",
     "traceback": [
      "\u001b[0;36m  Cell \u001b[0;32mIn[9], line 1\u001b[0;36m\u001b[0m\n\u001b[0;31m    **Objectives:**\u001b[0m\n\u001b[0m    ^\u001b[0m\n\u001b[0;31mSyntaxError\u001b[0m\u001b[0;31m:\u001b[0m invalid syntax\n"
     ]
    }
   ],
   "source": [
    "**Objectives:**\n",
    "\n",
    "- List popular languages for Data Science.\n",
    "- Identify commonly used libraries in Data Science.\n",
    "- Demonstrate examples of simple arithmetic expressions.\n",
    "- Convert minutes to hours using Python code.\n",
    "- Explore open-source tools for Data Science development environments."
   ]
  },
  {
   "cell_type": "code",
   "execution_count": null,
   "id": "0851e142-60d3-4fb6-87eb-5e173f525d98",
   "metadata": {},
   "outputs": [],
   "source": [
    "## Author\n",
    "\n",
    "Turing"
   ]
  }
 ],
 "metadata": {
  "kernelspec": {
   "display_name": "Python 3 (ipykernel)",
   "language": "python",
   "name": "python3"
  },
  "language_info": {
   "codemirror_mode": {
    "name": "ipython",
    "version": 3
   },
   "file_extension": ".py",
   "mimetype": "text/x-python",
   "name": "python",
   "nbconvert_exporter": "python",
   "pygments_lexer": "ipython3",
   "version": "3.11.7"
  }
 },
 "nbformat": 4,
 "nbformat_minor": 5
}
